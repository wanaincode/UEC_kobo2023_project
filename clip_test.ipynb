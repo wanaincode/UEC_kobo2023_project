{
 "cells": [
  {
   "cell_type": "code",
   "execution_count": 1,
   "metadata": {},
   "outputs": [
    {
     "name": "stdout",
     "output_type": "stream",
     "text": [
      "['obj_0_0.jpg', 'obj_0_1.jpg', 'obj_0_2.jpg', 'obj_0_3.jpg', 'obj_0_4.jpg']\n"
     ]
    }
   ],
   "source": [
    "import clip, os\n",
    "import torch\n",
    "from PIL import Image\n",
    "from torch.nn.functional import cosine_similarity\n",
    "\n",
    "device = \"cuda\" if torch.cuda.is_available() else \"cpu\"\n",
    "model, preprocess = clip.load(\"ViT-B/32\", device=device)\n",
    "\n",
    "img_list = os.listdir(\"saved_img\")\n",
    "img_list.sort()\n",
    "print(img_list)\n",
    "saved_img_list = [Image.open(os.path.join(\"saved_img\", img_i)) for img_i in img_list]\n"
   ]
  },
  {
   "cell_type": "code",
   "execution_count": 5,
   "metadata": {},
   "outputs": [],
   "source": [
    "base_feature_all = []\n",
    "for img_i in saved_img_list:\n",
    "    base_feature_all.append(model.encode_image(preprocess(img_i).unsqueeze(0)))\n",
    "base_feature_all = torch.cat(base_feature_all, dim=0)"
   ]
  },
  {
   "cell_type": "code",
   "execution_count": 6,
   "metadata": {},
   "outputs": [],
   "source": [
    "def test_img(img_path):\n",
    "    print(f\"test image: {img_path}\")\n",
    "    img = Image.open(img_path)\n",
    "    img_feature = model.encode_image(preprocess(img).unsqueeze(0))\n",
    "    feature_i_repeat = img_feature.repeat(base_feature_all.shape[0], 1)\n",
    "    similarity = cosine_similarity(feature_i_repeat, base_feature_all)\n",
    "    for i, s in enumerate(similarity):\n",
    "        print(f\"{i+1}-test similarity: {s.item()}\")\n",
    "    return similarity"
   ]
  },
  {
   "cell_type": "code",
   "execution_count": 7,
   "metadata": {},
   "outputs": [
    {
     "name": "stdout",
     "output_type": "stream",
     "text": [
      "test image: test_img/3_test.jpg\n"
     ]
    },
    {
     "ename": "FileNotFoundError",
     "evalue": "[Errno 2] No such file or directory: 'test_img/3_test.jpg'",
     "output_type": "error",
     "traceback": [
      "\u001b[0;31m---------------------------------------------------------------------------\u001b[0m",
      "\u001b[0;31mFileNotFoundError\u001b[0m                         Traceback (most recent call last)",
      "\u001b[1;32m/Users/wangmengchi/Downloads/冰箱/regist_img_demo/clip_test.ipynb Cell 4\u001b[0m line \u001b[0;36m1\n\u001b[0;32m----> <a href='vscode-notebook-cell:/Users/wangmengchi/Downloads/%E5%86%B0%E7%AE%B1/regist_img_demo/clip_test.ipynb#W3sZmlsZQ%3D%3D?line=0'>1</a>\u001b[0m test_img(\u001b[39m\"\u001b[39;49m\u001b[39mtest_img/3_test.jpg\u001b[39;49m\u001b[39m\"\u001b[39;49m)\n",
      "\u001b[1;32m/Users/wangmengchi/Downloads/冰箱/regist_img_demo/clip_test.ipynb Cell 4\u001b[0m line \u001b[0;36m3\n\u001b[1;32m      <a href='vscode-notebook-cell:/Users/wangmengchi/Downloads/%E5%86%B0%E7%AE%B1/regist_img_demo/clip_test.ipynb#W3sZmlsZQ%3D%3D?line=0'>1</a>\u001b[0m \u001b[39mdef\u001b[39;00m \u001b[39mtest_img\u001b[39m(img_path):\n\u001b[1;32m      <a href='vscode-notebook-cell:/Users/wangmengchi/Downloads/%E5%86%B0%E7%AE%B1/regist_img_demo/clip_test.ipynb#W3sZmlsZQ%3D%3D?line=1'>2</a>\u001b[0m     \u001b[39mprint\u001b[39m(\u001b[39mf\u001b[39m\u001b[39m\"\u001b[39m\u001b[39mtest image: \u001b[39m\u001b[39m{\u001b[39;00mimg_path\u001b[39m}\u001b[39;00m\u001b[39m\"\u001b[39m)\n\u001b[0;32m----> <a href='vscode-notebook-cell:/Users/wangmengchi/Downloads/%E5%86%B0%E7%AE%B1/regist_img_demo/clip_test.ipynb#W3sZmlsZQ%3D%3D?line=2'>3</a>\u001b[0m     img \u001b[39m=\u001b[39m Image\u001b[39m.\u001b[39;49mopen(img_path)\n\u001b[1;32m      <a href='vscode-notebook-cell:/Users/wangmengchi/Downloads/%E5%86%B0%E7%AE%B1/regist_img_demo/clip_test.ipynb#W3sZmlsZQ%3D%3D?line=3'>4</a>\u001b[0m     img_feature \u001b[39m=\u001b[39m model\u001b[39m.\u001b[39mencode_image(preprocess(img)\u001b[39m.\u001b[39munsqueeze(\u001b[39m0\u001b[39m))\n\u001b[1;32m      <a href='vscode-notebook-cell:/Users/wangmengchi/Downloads/%E5%86%B0%E7%AE%B1/regist_img_demo/clip_test.ipynb#W3sZmlsZQ%3D%3D?line=4'>5</a>\u001b[0m     feature_i_repeat \u001b[39m=\u001b[39m img_feature\u001b[39m.\u001b[39mrepeat(base_feature_all\u001b[39m.\u001b[39mshape[\u001b[39m0\u001b[39m], \u001b[39m1\u001b[39m)\n",
      "File \u001b[0;32m~/anaconda3/envs/pytorch/lib/python3.10/site-packages/PIL/Image.py:3227\u001b[0m, in \u001b[0;36mopen\u001b[0;34m(fp, mode, formats)\u001b[0m\n\u001b[1;32m   3224\u001b[0m     filename \u001b[39m=\u001b[39m fp\n\u001b[1;32m   3226\u001b[0m \u001b[39mif\u001b[39;00m filename:\n\u001b[0;32m-> 3227\u001b[0m     fp \u001b[39m=\u001b[39m builtins\u001b[39m.\u001b[39;49mopen(filename, \u001b[39m\"\u001b[39;49m\u001b[39mrb\u001b[39;49m\u001b[39m\"\u001b[39;49m)\n\u001b[1;32m   3228\u001b[0m     exclusive_fp \u001b[39m=\u001b[39m \u001b[39mTrue\u001b[39;00m\n\u001b[1;32m   3230\u001b[0m \u001b[39mtry\u001b[39;00m:\n",
      "\u001b[0;31mFileNotFoundError\u001b[0m: [Errno 2] No such file or directory: 'test_img/3_test.jpg'"
     ]
    }
   ],
   "source": [
    "test_img(\"test_img/3_test.jpg\")"
   ]
  },
  {
   "cell_type": "code",
   "execution_count": null,
   "metadata": {},
   "outputs": [],
   "source": []
  }
 ],
 "metadata": {
  "kernelspec": {
   "display_name": "th",
   "language": "python",
   "name": "python3"
  },
  "language_info": {
   "codemirror_mode": {
    "name": "ipython",
    "version": 3
   },
   "file_extension": ".py",
   "mimetype": "text/x-python",
   "name": "python",
   "nbconvert_exporter": "python",
   "pygments_lexer": "ipython3",
   "version": "3.10.11"
  },
  "orig_nbformat": 4
 },
 "nbformat": 4,
 "nbformat_minor": 2
}
